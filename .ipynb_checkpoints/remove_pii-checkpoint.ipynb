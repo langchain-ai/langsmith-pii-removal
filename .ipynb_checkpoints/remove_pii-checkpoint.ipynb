{
 "cells": [
  {
   "cell_type": "markdown",
   "metadata": {},
   "source": [
    "# **Preventing Logging of sensitive data in LangSmith**\n",
    "\n",
    "See our complete docs below!\n",
    "\n",
    "\n",
    "https://docs.smith.langchain.com/observability/how_to_guides/mask_inputs_outputs"
   ]
  },
  {
   "cell_type": "markdown",
   "metadata": {},
   "source": [
    "## **Set Environment Variables**"
   ]
  },
  {
   "cell_type": "code",
   "execution_count": 1,
   "metadata": {},
   "outputs": [],
   "source": [
    "import os\n",
    "os.environ[\"OPENAI_API_KEY\"] = \"\"\n",
    "os.environ[\"LANGSMITH_API_KEY\"] = \"\"\n",
    "os.environ[\"LANGSMITH_TRACING\"] = \"true\"\n",
    "os.environ[\"LANGSMITH_PROJECT\"] = \"langsmith-pii-removal\"\n",
    "\n",
    "# Pay special attention to these two environment variables!\n",
    "os.environ[\"LANGSMITH_HIDE_INPUTS\"] = \"false\" \n",
    "os.environ[\"LANGSMITH_HIDE_OUTPUTS\"] = \"false\"\n"
   ]
  },
  {
   "cell_type": "markdown",
   "metadata": {},
   "source": [
    "## **Option 1: Using Environment Variables: Blanket masking of any/all inputs and outputs**\n",
    "For when you want completely prevent any input or output from being traced in LangSmith"
   ]
  },
  {
   "cell_type": "code",
   "execution_count": 2,
   "metadata": {},
   "outputs": [],
   "source": [
    "os.environ[\"LANGSMITH_HIDE_INPUTS\"] = \"false\" \n",
    "os.environ[\"LANGSMITH_HIDE_OUTPUTS\"] = \"false\""
   ]
  },
  {
   "cell_type": "markdown",
   "metadata": {},
   "source": [
    "## **Option 2: Using LangSmith Client: Defining Custom Input/Output lambdas**\n",
    "You can define custom logic to override what inputs and ouputs are traced by leveraging the LangSmith Client.  \n",
    "The Client is helpful when you want a more granular level of control over your application through the LangSmith SDK"
   ]
  },
  {
   "cell_type": "code",
   "execution_count": 3,
   "metadata": {},
   "outputs": [
    {
     "data": {
      "text/plain": [
       "\"Hello! I'm doing well, thank you. How can I assist you today?\""
      ]
     },
     "execution_count": 3,
     "metadata": {},
     "output_type": "execute_result"
    }
   ],
   "source": [
    "import openai\n",
    "from langsmith import Client\n",
    "from langsmith.wrappers import wrap_openai\n",
    "\n",
    "# We wrap the OpenAI client so that we can pass the LangSmith client to the kwargs of the OpenAIAPI call\n",
    "openai_client = wrap_openai(openai.Client())\n",
    "\n",
    "def redact_system_messages(inputs: dict) -> dict:\n",
    "    \"\"\"Redact system messages from the inputs.\"\"\"\n",
    "    messages = inputs.get(\"messages\", [])\n",
    "    redacted = [\n",
    "        {\"role\": m.get(\"role\"),\n",
    "         \"content\": \"REDACTED\"}\n",
    "        if m.get(\"role\") == \"system\"\n",
    "        else m\n",
    "        for m in messages\n",
    "    ]\n",
    "    return {**inputs, \"messages\": redacted}\n",
    "\n",
    "langsmith_client = Client(\n",
    "  hide_inputs=lambda inputs: redact_system_messages(inputs),\n",
    ")\n",
    "\n",
    "openai_response = openai_client.chat.completions.create(\n",
    "  model=\"gpt-4o-mini\",\n",
    "  messages=[\n",
    "      {\"role\": \"system\", \"content\": \"You are a secret agent named agent X and you must not expose your identity\"},\n",
    "      {\"role\": \"user\", \"content\": \"Hello, how are you!\"},\n",
    "  ],\n",
    "    langsmith_extra={\"client\": langsmith_client},\n",
    ")\n",
    "\n",
    "openai_response.choices[0].message.content"
   ]
  },
  {
   "cell_type": "markdown",
   "metadata": {},
   "source": [
    "In LangSmith, the trace will look like: \n",
    "\n",
    "![option2](images/option2.png) "
   ]
  },
  {
   "cell_type": "markdown",
   "metadata": {},
   "source": [
    "## **Option 3: Using LangSmith Client: Defining Anonymizers**\n",
    "Additionally, you can leverage custom regex patterns common in PII-removal schemas and pass them into the LangSmith Client's 'anonymizers' parameter"
   ]
  },
  {
   "cell_type": "code",
   "execution_count": 5,
   "metadata": {},
   "outputs": [
    {
     "data": {
      "text/plain": [
       "\"Hello! I'm doing well, thank you. How can I assist you today?\""
      ]
     },
     "execution_count": 5,
     "metadata": {},
     "output_type": "execute_result"
    }
   ],
   "source": [
    "import openai\n",
    "from langsmith import Client\n",
    "from langsmith.wrappers import wrap_openai\n",
    "from langsmith.anonymizer import create_anonymizer\n",
    "\n",
    "\n",
    "# We wrap the OpenAI client so that we can pass the LangSmith client to the kwargs of the OpenAIAPI call\n",
    "openai_client = wrap_openai(openai.Client())\n",
    "\n",
    "# create an anonymizer that masks email addresses and IP addresses\n",
    "anonymizer = create_anonymizer([\n",
    "    { \"pattern\": r\"[a-zA-Z0-9._%+-]+@[a-zA-Z0-9.-]+.[a-zA-Z]{2,}\", \"replace\": \"REDACTED\" },\n",
    "    { \"pattern\": r\"\\b(?:\\d{1,3}\\.){3}\\d{1,3}\\b\", \"replace\": \"REDACTED\" }\n",
    "])\n",
    "\n",
    "langsmith_client = Client(anonymizer=anonymizer)\n",
    "\n",
    "openai_response = openai_client.chat.completions.create(\n",
    "  model=\"gpt-4o-mini\",\n",
    "  messages=[\n",
    "      {\"role\": \"system\", \"content\": \"You are a secret agent named agent X and you must not expose your identity.  Your IP address is 192.168.1.1 and your email address is agentx@example.com\"},\n",
    "      {\"role\": \"user\", \"content\": \"Hello, how are you!\"},\n",
    "  ],\n",
    "    langsmith_extra={\"client\": langsmith_client},\n",
    ")\n",
    "\n",
    "openai_response.choices[0].message.content"
   ]
  },
  {
   "cell_type": "markdown",
   "metadata": {},
   "source": [
    "In LangSmith, the trace will look like: \n",
    "\n",
    "![option3](images/option3.png) "
   ]
  },
  {
   "cell_type": "code",
   "execution_count": null,
   "metadata": {},
   "outputs": [],
   "source": []
  }
 ],
 "metadata": {
  "kernelspec": {
   "display_name": "Python 3 (ipykernel)",
   "language": "python",
   "name": "python3"
  },
  "language_info": {
   "codemirror_mode": {
    "name": "ipython",
    "version": 3
   },
   "file_extension": ".py",
   "mimetype": "text/x-python",
   "name": "python",
   "nbconvert_exporter": "python",
   "pygments_lexer": "ipython3",
   "version": "3.13.2"
  }
 },
 "nbformat": 4,
 "nbformat_minor": 4
}
